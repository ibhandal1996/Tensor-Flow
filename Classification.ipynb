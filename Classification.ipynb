{
  "nbformat": 4,
  "nbformat_minor": 0,
  "metadata": {
    "colab": {
      "name": "Classification.ipynb",
      "provenance": []
    },
    "kernelspec": {
      "name": "python3",
      "display_name": "Python 3"
    }
  },
  "cells": [
    {
      "cell_type": "code",
      "metadata": {
        "id": "2NdpsArqRDEl",
        "outputId": "8f4301e5-bfc4-4b5d-cec1-926677f3f88c",
        "colab": {
          "base_uri": "https://localhost:8080/",
          "height": 121
        }
      },
      "source": [
        "%tensorflow_version 2.x  # this line is not required unless you are in a notebook"
      ],
      "execution_count": 1,
      "outputs": [
        {
          "output_type": "stream",
          "text": [
            "`%tensorflow_version` only switches the major version: 1.x or 2.x.\n",
            "You set: `2.x  # this line is not required unless you are in a notebook`. This will be interpreted as: `2.x`.\n",
            "\n",
            "\n",
            "TensorFlow 2.x selected.\n"
          ],
          "name": "stdout"
        }
      ]
    },
    {
      "cell_type": "code",
      "metadata": {
        "id": "CRrh1NJkRF07"
      },
      "source": [
        "from __future__ import absolute_import, division, print_function, unicode_literals\n",
        "import tensorflow as tf\n",
        "import pandas as pd"
      ],
      "execution_count": 2,
      "outputs": []
    },
    {
      "cell_type": "code",
      "metadata": {
        "id": "l6ZfAtmFRLVY"
      },
      "source": [
        "CSV_COLUMN_NAMES = ['SepalLength', 'SepalWidth', 'PetalLength', 'PetalWidth', 'Species']\n",
        "SPECIES = ['Setosa', 'Versicolor', 'Virginica']"
      ],
      "execution_count": 3,
      "outputs": []
    },
    {
      "cell_type": "code",
      "metadata": {
        "id": "W_MmlGjGROnF",
        "outputId": "43ced19a-d242-4f8d-df63-72a85165a8d7",
        "colab": {
          "base_uri": "https://localhost:8080/",
          "height": 104
        }
      },
      "source": [
        "train_path = tf.keras.utils.get_file(\n",
        "    \"iris_training.csv\", \"https://storage.googleapis.com/download.tensorflow.org/data/iris_training.csv\")\n",
        "test_path = tf.keras.utils.get_file(\n",
        "    \"iris_test.csv\", \"https://storage.googleapis.com/download.tensorflow.org/data/iris_test.csv\")\n",
        "\n",
        "train = pd.read_csv(train_path, names=CSV_COLUMN_NAMES, header=0)\n",
        "test = pd.read_csv(test_path, names=CSV_COLUMN_NAMES, header=0)\n",
        "# Here we use keras (a module inside of TensorFlow) to grab our datasets and read them into a pandas dataframe"
      ],
      "execution_count": 4,
      "outputs": [
        {
          "output_type": "stream",
          "text": [
            "Downloading data from https://storage.googleapis.com/download.tensorflow.org/data/iris_training.csv\n",
            "8192/2194 [================================================================================================================] - 0s 0us/step\n",
            "Downloading data from https://storage.googleapis.com/download.tensorflow.org/data/iris_test.csv\n",
            "8192/573 [============================================================================================================================================================================================================================================================================================================================================================================================================================================] - 0s 0us/step\n"
          ],
          "name": "stdout"
        }
      ]
    },
    {
      "cell_type": "code",
      "metadata": {
        "id": "p55PYAr6RQbG",
        "outputId": "d144a2d5-1ae7-4426-e654-cdc51b9b9828",
        "colab": {
          "base_uri": "https://localhost:8080/",
          "height": 195
        }
      },
      "source": [
        "train.head()"
      ],
      "execution_count": 5,
      "outputs": [
        {
          "output_type": "execute_result",
          "data": {
            "text/html": [
              "<div>\n",
              "<style scoped>\n",
              "    .dataframe tbody tr th:only-of-type {\n",
              "        vertical-align: middle;\n",
              "    }\n",
              "\n",
              "    .dataframe tbody tr th {\n",
              "        vertical-align: top;\n",
              "    }\n",
              "\n",
              "    .dataframe thead th {\n",
              "        text-align: right;\n",
              "    }\n",
              "</style>\n",
              "<table border=\"1\" class=\"dataframe\">\n",
              "  <thead>\n",
              "    <tr style=\"text-align: right;\">\n",
              "      <th></th>\n",
              "      <th>SepalLength</th>\n",
              "      <th>SepalWidth</th>\n",
              "      <th>PetalLength</th>\n",
              "      <th>PetalWidth</th>\n",
              "      <th>Species</th>\n",
              "    </tr>\n",
              "  </thead>\n",
              "  <tbody>\n",
              "    <tr>\n",
              "      <th>0</th>\n",
              "      <td>6.4</td>\n",
              "      <td>2.8</td>\n",
              "      <td>5.6</td>\n",
              "      <td>2.2</td>\n",
              "      <td>2</td>\n",
              "    </tr>\n",
              "    <tr>\n",
              "      <th>1</th>\n",
              "      <td>5.0</td>\n",
              "      <td>2.3</td>\n",
              "      <td>3.3</td>\n",
              "      <td>1.0</td>\n",
              "      <td>1</td>\n",
              "    </tr>\n",
              "    <tr>\n",
              "      <th>2</th>\n",
              "      <td>4.9</td>\n",
              "      <td>2.5</td>\n",
              "      <td>4.5</td>\n",
              "      <td>1.7</td>\n",
              "      <td>2</td>\n",
              "    </tr>\n",
              "    <tr>\n",
              "      <th>3</th>\n",
              "      <td>4.9</td>\n",
              "      <td>3.1</td>\n",
              "      <td>1.5</td>\n",
              "      <td>0.1</td>\n",
              "      <td>0</td>\n",
              "    </tr>\n",
              "    <tr>\n",
              "      <th>4</th>\n",
              "      <td>5.7</td>\n",
              "      <td>3.8</td>\n",
              "      <td>1.7</td>\n",
              "      <td>0.3</td>\n",
              "      <td>0</td>\n",
              "    </tr>\n",
              "  </tbody>\n",
              "</table>\n",
              "</div>"
            ],
            "text/plain": [
              "   SepalLength  SepalWidth  PetalLength  PetalWidth  Species\n",
              "0          6.4         2.8          5.6         2.2        2\n",
              "1          5.0         2.3          3.3         1.0        1\n",
              "2          4.9         2.5          4.5         1.7        2\n",
              "3          4.9         3.1          1.5         0.1        0\n",
              "4          5.7         3.8          1.7         0.3        0"
            ]
          },
          "metadata": {
            "tags": []
          },
          "execution_count": 5
        }
      ]
    },
    {
      "cell_type": "code",
      "metadata": {
        "id": "AZGuGBZVRSfu",
        "outputId": "30ac151d-50cf-4140-8c57-48e8074b65eb",
        "colab": {
          "base_uri": "https://localhost:8080/",
          "height": 195
        }
      },
      "source": [
        "train_y = train.pop('Species')\n",
        "test_y = test.pop('Species')\n",
        "train.head() # the species column is now gone"
      ],
      "execution_count": 6,
      "outputs": [
        {
          "output_type": "execute_result",
          "data": {
            "text/html": [
              "<div>\n",
              "<style scoped>\n",
              "    .dataframe tbody tr th:only-of-type {\n",
              "        vertical-align: middle;\n",
              "    }\n",
              "\n",
              "    .dataframe tbody tr th {\n",
              "        vertical-align: top;\n",
              "    }\n",
              "\n",
              "    .dataframe thead th {\n",
              "        text-align: right;\n",
              "    }\n",
              "</style>\n",
              "<table border=\"1\" class=\"dataframe\">\n",
              "  <thead>\n",
              "    <tr style=\"text-align: right;\">\n",
              "      <th></th>\n",
              "      <th>SepalLength</th>\n",
              "      <th>SepalWidth</th>\n",
              "      <th>PetalLength</th>\n",
              "      <th>PetalWidth</th>\n",
              "    </tr>\n",
              "  </thead>\n",
              "  <tbody>\n",
              "    <tr>\n",
              "      <th>0</th>\n",
              "      <td>6.4</td>\n",
              "      <td>2.8</td>\n",
              "      <td>5.6</td>\n",
              "      <td>2.2</td>\n",
              "    </tr>\n",
              "    <tr>\n",
              "      <th>1</th>\n",
              "      <td>5.0</td>\n",
              "      <td>2.3</td>\n",
              "      <td>3.3</td>\n",
              "      <td>1.0</td>\n",
              "    </tr>\n",
              "    <tr>\n",
              "      <th>2</th>\n",
              "      <td>4.9</td>\n",
              "      <td>2.5</td>\n",
              "      <td>4.5</td>\n",
              "      <td>1.7</td>\n",
              "    </tr>\n",
              "    <tr>\n",
              "      <th>3</th>\n",
              "      <td>4.9</td>\n",
              "      <td>3.1</td>\n",
              "      <td>1.5</td>\n",
              "      <td>0.1</td>\n",
              "    </tr>\n",
              "    <tr>\n",
              "      <th>4</th>\n",
              "      <td>5.7</td>\n",
              "      <td>3.8</td>\n",
              "      <td>1.7</td>\n",
              "      <td>0.3</td>\n",
              "    </tr>\n",
              "  </tbody>\n",
              "</table>\n",
              "</div>"
            ],
            "text/plain": [
              "   SepalLength  SepalWidth  PetalLength  PetalWidth\n",
              "0          6.4         2.8          5.6         2.2\n",
              "1          5.0         2.3          3.3         1.0\n",
              "2          4.9         2.5          4.5         1.7\n",
              "3          4.9         3.1          1.5         0.1\n",
              "4          5.7         3.8          1.7         0.3"
            ]
          },
          "metadata": {
            "tags": []
          },
          "execution_count": 6
        }
      ]
    },
    {
      "cell_type": "code",
      "metadata": {
        "id": "9h0EsBCsRU0X"
      },
      "source": [
        "def input_fn(features, labels, training=True, batch_size=256):\n",
        "    # Convert the inputs to a Dataset.\n",
        "    dataset = tf.data.Dataset.from_tensor_slices((dict(features), labels))\n",
        "\n",
        "    # Shuffle and repeat if you are in training mode.\n",
        "    if training:\n",
        "        dataset = dataset.shuffle(1000).repeat()\n",
        "    \n",
        "    return dataset.batch(batch_size)"
      ],
      "execution_count": 7,
      "outputs": []
    },
    {
      "cell_type": "code",
      "metadata": {
        "id": "nDwpoTlURXYG",
        "outputId": "46f9703f-3f6d-4732-d700-4a51c5311171",
        "colab": {
          "base_uri": "https://localhost:8080/",
          "height": 54
        }
      },
      "source": [
        "my_feature_columns = []\n",
        "for key in train.keys():\n",
        "    my_feature_columns.append(tf.feature_column.numeric_column(key=key))\n",
        "print(my_feature_columns)"
      ],
      "execution_count": 8,
      "outputs": [
        {
          "output_type": "stream",
          "text": [
            "[NumericColumn(key='SepalLength', shape=(1,), default_value=None, dtype=tf.float32, normalizer_fn=None), NumericColumn(key='SepalWidth', shape=(1,), default_value=None, dtype=tf.float32, normalizer_fn=None), NumericColumn(key='PetalLength', shape=(1,), default_value=None, dtype=tf.float32, normalizer_fn=None), NumericColumn(key='PetalWidth', shape=(1,), default_value=None, dtype=tf.float32, normalizer_fn=None)]\n"
          ],
          "name": "stdout"
        }
      ]
    },
    {
      "cell_type": "code",
      "metadata": {
        "id": "G-mfRAuCRcZ-",
        "outputId": "6d77c610-3364-4fe3-c4c1-9afd1f2c7d21",
        "colab": {
          "base_uri": "https://localhost:8080/",
          "height": 188
        }
      },
      "source": [
        "# Build a DNN with 2 hidden layers with 30 and 10 hidden nodes each.\n",
        "classifier = tf.estimator.DNNClassifier(\n",
        "    feature_columns=my_feature_columns,\n",
        "    # Two hidden layers of 30 and 10 nodes respectively.\n",
        "    hidden_units=[30, 10],\n",
        "    # The model must choose between 3 classes.\n",
        "    n_classes=3)"
      ],
      "execution_count": 9,
      "outputs": [
        {
          "output_type": "stream",
          "text": [
            "INFO:tensorflow:Using default config.\n",
            "WARNING:tensorflow:Using temporary folder as model directory: /tmp/tmpn8qqv4y_\n",
            "INFO:tensorflow:Using config: {'_model_dir': '/tmp/tmpn8qqv4y_', '_tf_random_seed': None, '_save_summary_steps': 100, '_save_checkpoints_steps': None, '_save_checkpoints_secs': 600, '_session_config': allow_soft_placement: true\n",
            "graph_options {\n",
            "  rewrite_options {\n",
            "    meta_optimizer_iterations: ONE\n",
            "  }\n",
            "}\n",
            ", '_keep_checkpoint_max': 5, '_keep_checkpoint_every_n_hours': 10000, '_log_step_count_steps': 100, '_train_distribute': None, '_device_fn': None, '_protocol': None, '_eval_distribute': None, '_experimental_distribute': None, '_experimental_max_worker_delay_secs': None, '_session_creation_timeout_secs': 7200, '_service': None, '_cluster_spec': ClusterSpec({}), '_task_type': 'worker', '_task_id': 0, '_global_id_in_cluster': 0, '_master': '', '_evaluation_master': '', '_is_chief': True, '_num_ps_replicas': 0, '_num_worker_replicas': 1}\n"
          ],
          "name": "stdout"
        }
      ]
    },
    {
      "cell_type": "code",
      "metadata": {
        "id": "bFk7qN-RRgFL",
        "outputId": "ddf40cba-2df4-453d-9222-f9317ba894f0",
        "colab": {
          "base_uri": "https://localhost:8080/",
          "height": 1000
        }
      },
      "source": [
        "classifier.train(\n",
        "    input_fn=lambda: input_fn(train, train_y, training=True),\n",
        "    steps=5000)\n",
        "# We include a lambda to avoid creating an inner function previously"
      ],
      "execution_count": 10,
      "outputs": [
        {
          "output_type": "stream",
          "text": [
            "WARNING:tensorflow:From /usr/local/lib/python3.6/dist-packages/tensorflow/python/training/training_util.py:236: Variable.initialized_value (from tensorflow.python.ops.variables) is deprecated and will be removed in a future version.\n",
            "Instructions for updating:\n",
            "Use Variable.read_value. Variables in 2.X are initialized automatically both in eager and graph (inside tf.defun) contexts.\n",
            "INFO:tensorflow:Calling model_fn.\n",
            "WARNING:tensorflow:Layer dnn is casting an input tensor from dtype float64 to the layer's dtype of float32, which is new behavior in TensorFlow 2.  The layer has dtype float32 because its dtype defaults to floatx.\n",
            "\n",
            "If you intended to run this layer in float32, you can safely ignore this warning. If in doubt, this warning is likely only an issue if you are porting a TensorFlow 1.X model to TensorFlow 2.\n",
            "\n",
            "To change all layers to have dtype float64 by default, call `tf.keras.backend.set_floatx('float64')`. To change just this layer, pass dtype='float64' to the layer constructor. If you are the author of this layer, you can disable autocasting by passing autocast=False to the base Layer constructor.\n",
            "\n",
            "WARNING:tensorflow:From /usr/local/lib/python3.6/dist-packages/tensorflow/python/keras/optimizer_v2/adagrad.py:83: calling Constant.__init__ (from tensorflow.python.ops.init_ops) with dtype is deprecated and will be removed in a future version.\n",
            "Instructions for updating:\n",
            "Call initializer instance with the dtype argument instead of passing it to the constructor\n",
            "INFO:tensorflow:Done calling model_fn.\n",
            "INFO:tensorflow:Create CheckpointSaverHook.\n",
            "INFO:tensorflow:Graph was finalized.\n",
            "INFO:tensorflow:Running local_init_op.\n",
            "INFO:tensorflow:Done running local_init_op.\n",
            "INFO:tensorflow:Calling checkpoint listeners before saving checkpoint 0...\n",
            "INFO:tensorflow:Saving checkpoints for 0 into /tmp/tmpn8qqv4y_/model.ckpt.\n",
            "INFO:tensorflow:Calling checkpoint listeners after saving checkpoint 0...\n",
            "INFO:tensorflow:loss = 1.0960243, step = 0\n",
            "INFO:tensorflow:global_step/sec: 469.992\n",
            "INFO:tensorflow:loss = 0.9036292, step = 100 (0.216 sec)\n",
            "INFO:tensorflow:global_step/sec: 477.669\n",
            "INFO:tensorflow:loss = 0.8561251, step = 200 (0.208 sec)\n",
            "INFO:tensorflow:global_step/sec: 494.527\n",
            "INFO:tensorflow:loss = 0.82582545, step = 300 (0.205 sec)\n",
            "INFO:tensorflow:global_step/sec: 507.829\n",
            "INFO:tensorflow:loss = 0.7992957, step = 400 (0.196 sec)\n",
            "INFO:tensorflow:global_step/sec: 522.312\n",
            "INFO:tensorflow:loss = 0.764508, step = 500 (0.190 sec)\n",
            "INFO:tensorflow:global_step/sec: 531.932\n",
            "INFO:tensorflow:loss = 0.74389243, step = 600 (0.187 sec)\n",
            "INFO:tensorflow:global_step/sec: 486.329\n",
            "INFO:tensorflow:loss = 0.7315412, step = 700 (0.205 sec)\n",
            "INFO:tensorflow:global_step/sec: 572.275\n",
            "INFO:tensorflow:loss = 0.70228255, step = 800 (0.177 sec)\n",
            "INFO:tensorflow:global_step/sec: 528.417\n",
            "INFO:tensorflow:loss = 0.6898426, step = 900 (0.191 sec)\n",
            "INFO:tensorflow:global_step/sec: 522.115\n",
            "INFO:tensorflow:loss = 0.6715235, step = 1000 (0.191 sec)\n",
            "INFO:tensorflow:global_step/sec: 539.903\n",
            "INFO:tensorflow:loss = 0.66327727, step = 1100 (0.184 sec)\n",
            "INFO:tensorflow:global_step/sec: 535.942\n",
            "INFO:tensorflow:loss = 0.6456163, step = 1200 (0.187 sec)\n",
            "INFO:tensorflow:global_step/sec: 598.16\n",
            "INFO:tensorflow:loss = 0.6321162, step = 1300 (0.165 sec)\n",
            "INFO:tensorflow:global_step/sec: 587.151\n",
            "INFO:tensorflow:loss = 0.6172323, step = 1400 (0.176 sec)\n",
            "INFO:tensorflow:global_step/sec: 556.341\n",
            "INFO:tensorflow:loss = 0.6052915, step = 1500 (0.175 sec)\n",
            "INFO:tensorflow:global_step/sec: 537.798\n",
            "INFO:tensorflow:loss = 0.5958228, step = 1600 (0.185 sec)\n",
            "INFO:tensorflow:global_step/sec: 565.573\n",
            "INFO:tensorflow:loss = 0.58183, step = 1700 (0.179 sec)\n",
            "INFO:tensorflow:global_step/sec: 599.104\n",
            "INFO:tensorflow:loss = 0.5724991, step = 1800 (0.167 sec)\n",
            "INFO:tensorflow:global_step/sec: 610.274\n",
            "INFO:tensorflow:loss = 0.55334955, step = 1900 (0.162 sec)\n",
            "INFO:tensorflow:global_step/sec: 591.459\n",
            "INFO:tensorflow:loss = 0.544418, step = 2000 (0.169 sec)\n",
            "INFO:tensorflow:global_step/sec: 646.867\n",
            "INFO:tensorflow:loss = 0.5418291, step = 2100 (0.155 sec)\n",
            "INFO:tensorflow:global_step/sec: 513.015\n",
            "INFO:tensorflow:loss = 0.54040694, step = 2200 (0.194 sec)\n",
            "INFO:tensorflow:global_step/sec: 551.916\n",
            "INFO:tensorflow:loss = 0.5353777, step = 2300 (0.184 sec)\n",
            "INFO:tensorflow:global_step/sec: 596.028\n",
            "INFO:tensorflow:loss = 0.5186796, step = 2400 (0.165 sec)\n",
            "WARNING:tensorflow:It seems that global step (tf.train.get_global_step) has not been increased. Current value (could be stable): 2475 vs previous value: 2475. You could increase the global step by passing tf.train.get_global_step() to Optimizer.apply_gradients or Optimizer.minimize.\n",
            "INFO:tensorflow:global_step/sec: 591.88\n",
            "INFO:tensorflow:loss = 0.5096494, step = 2500 (0.170 sec)\n",
            "INFO:tensorflow:global_step/sec: 614.397\n",
            "INFO:tensorflow:loss = 0.49463108, step = 2600 (0.162 sec)\n",
            "INFO:tensorflow:global_step/sec: 565.76\n",
            "INFO:tensorflow:loss = 0.50232434, step = 2700 (0.180 sec)\n",
            "INFO:tensorflow:global_step/sec: 548.211\n",
            "INFO:tensorflow:loss = 0.49073637, step = 2800 (0.182 sec)\n",
            "INFO:tensorflow:global_step/sec: 499.732\n",
            "INFO:tensorflow:loss = 0.47735053, step = 2900 (0.198 sec)\n",
            "WARNING:tensorflow:It seems that global step (tf.train.get_global_step) has not been increased. Current value (could be stable): 2996 vs previous value: 2996. You could increase the global step by passing tf.train.get_global_step() to Optimizer.apply_gradients or Optimizer.minimize.\n",
            "INFO:tensorflow:global_step/sec: 523.483\n",
            "INFO:tensorflow:loss = 0.48424846, step = 3000 (0.193 sec)\n",
            "INFO:tensorflow:global_step/sec: 565.074\n",
            "INFO:tensorflow:loss = 0.4649272, step = 3100 (0.175 sec)\n",
            "INFO:tensorflow:global_step/sec: 522.974\n",
            "INFO:tensorflow:loss = 0.46400073, step = 3200 (0.191 sec)\n",
            "INFO:tensorflow:global_step/sec: 500.023\n",
            "INFO:tensorflow:loss = 0.45761305, step = 3300 (0.207 sec)\n",
            "INFO:tensorflow:global_step/sec: 583.423\n",
            "INFO:tensorflow:loss = 0.46943316, step = 3400 (0.167 sec)\n",
            "INFO:tensorflow:global_step/sec: 540.216\n",
            "INFO:tensorflow:loss = 0.44313735, step = 3500 (0.184 sec)\n",
            "INFO:tensorflow:global_step/sec: 591.069\n",
            "INFO:tensorflow:loss = 0.44373924, step = 3600 (0.168 sec)\n",
            "INFO:tensorflow:global_step/sec: 576.468\n",
            "INFO:tensorflow:loss = 0.43037438, step = 3700 (0.177 sec)\n",
            "INFO:tensorflow:global_step/sec: 584.096\n",
            "INFO:tensorflow:loss = 0.43111816, step = 3800 (0.168 sec)\n",
            "INFO:tensorflow:global_step/sec: 559.573\n",
            "INFO:tensorflow:loss = 0.42621008, step = 3900 (0.179 sec)\n",
            "INFO:tensorflow:global_step/sec: 571.737\n",
            "INFO:tensorflow:loss = 0.4236973, step = 4000 (0.175 sec)\n",
            "INFO:tensorflow:global_step/sec: 570.266\n",
            "INFO:tensorflow:loss = 0.41799647, step = 4100 (0.175 sec)\n",
            "INFO:tensorflow:global_step/sec: 577.399\n",
            "INFO:tensorflow:loss = 0.4038399, step = 4200 (0.174 sec)\n",
            "INFO:tensorflow:global_step/sec: 589.266\n",
            "INFO:tensorflow:loss = 0.39905715, step = 4300 (0.171 sec)\n",
            "INFO:tensorflow:global_step/sec: 531.061\n",
            "INFO:tensorflow:loss = 0.39256492, step = 4400 (0.190 sec)\n",
            "INFO:tensorflow:global_step/sec: 472.173\n",
            "INFO:tensorflow:loss = 0.38116503, step = 4500 (0.209 sec)\n",
            "INFO:tensorflow:global_step/sec: 502.472\n",
            "INFO:tensorflow:loss = 0.3775147, step = 4600 (0.201 sec)\n",
            "INFO:tensorflow:global_step/sec: 474.465\n",
            "INFO:tensorflow:loss = 0.38707834, step = 4700 (0.210 sec)\n",
            "INFO:tensorflow:global_step/sec: 512.512\n",
            "INFO:tensorflow:loss = 0.36801726, step = 4800 (0.196 sec)\n",
            "INFO:tensorflow:global_step/sec: 467.238\n",
            "INFO:tensorflow:loss = 0.3511051, step = 4900 (0.210 sec)\n",
            "INFO:tensorflow:Calling checkpoint listeners before saving checkpoint 5000...\n",
            "INFO:tensorflow:Saving checkpoints for 5000 into /tmp/tmpn8qqv4y_/model.ckpt.\n",
            "INFO:tensorflow:Calling checkpoint listeners after saving checkpoint 5000...\n",
            "INFO:tensorflow:Loss for final step: 0.36764494.\n"
          ],
          "name": "stdout"
        },
        {
          "output_type": "execute_result",
          "data": {
            "text/plain": [
              "<tensorflow_estimator.python.estimator.canned.dnn.DNNClassifierV2 at 0x7fb588eac748>"
            ]
          },
          "metadata": {
            "tags": []
          },
          "execution_count": 10
        }
      ]
    },
    {
      "cell_type": "code",
      "metadata": {
        "id": "AIrG_pWNRiHz",
        "outputId": "9de2378a-cf0a-4034-c50e-577af99a450b",
        "colab": {
          "base_uri": "https://localhost:8080/",
          "height": 373
        }
      },
      "source": [
        "eval_result = classifier.evaluate(\n",
        "    input_fn=lambda: input_fn(test, test_y, training=False))\n",
        "\n",
        "print('\\nTest set accuracy: {accuracy:0.3f}\\n'.format(**eval_result))"
      ],
      "execution_count": 11,
      "outputs": [
        {
          "output_type": "stream",
          "text": [
            "INFO:tensorflow:Calling model_fn.\n",
            "WARNING:tensorflow:Layer dnn is casting an input tensor from dtype float64 to the layer's dtype of float32, which is new behavior in TensorFlow 2.  The layer has dtype float32 because its dtype defaults to floatx.\n",
            "\n",
            "If you intended to run this layer in float32, you can safely ignore this warning. If in doubt, this warning is likely only an issue if you are porting a TensorFlow 1.X model to TensorFlow 2.\n",
            "\n",
            "To change all layers to have dtype float64 by default, call `tf.keras.backend.set_floatx('float64')`. To change just this layer, pass dtype='float64' to the layer constructor. If you are the author of this layer, you can disable autocasting by passing autocast=False to the base Layer constructor.\n",
            "\n",
            "INFO:tensorflow:Done calling model_fn.\n",
            "INFO:tensorflow:Starting evaluation at 2020-10-21T03:49:14Z\n",
            "INFO:tensorflow:Graph was finalized.\n",
            "INFO:tensorflow:Restoring parameters from /tmp/tmpn8qqv4y_/model.ckpt-5000\n",
            "INFO:tensorflow:Running local_init_op.\n",
            "INFO:tensorflow:Done running local_init_op.\n",
            "INFO:tensorflow:Inference Time : 0.25726s\n",
            "INFO:tensorflow:Finished evaluation at 2020-10-21-03:49:14\n",
            "INFO:tensorflow:Saving dict for global step 5000: accuracy = 0.9, average_loss = 0.43188292, global_step = 5000, loss = 0.43188292\n",
            "INFO:tensorflow:Saving 'checkpoint_path' summary for global step 5000: /tmp/tmpn8qqv4y_/model.ckpt-5000\n",
            "\n",
            "Test set accuracy: 0.900\n",
            "\n"
          ],
          "name": "stdout"
        }
      ]
    },
    {
      "cell_type": "code",
      "metadata": {
        "id": "q1jXM1VFRnql",
        "outputId": "da016a25-2841-4f42-d1d4-5e816ada8cbc",
        "colab": {
          "base_uri": "https://localhost:8080/",
          "height": 336
        }
      },
      "source": [
        "def input_fn(features, batch_size=256):\n",
        "    # Convert the inputs to a Dataset without labels.\n",
        "    return tf.data.Dataset.from_tensor_slices(dict(features)).batch(batch_size)\n",
        "\n",
        "features = ['SepalLength', 'SepalWidth', 'PetalLength', 'PetalWidth']\n",
        "predict = {}\n",
        "\n",
        "print(\"Please type numeric values as prompted.\")\n",
        "for feature in features:\n",
        "  valid = True\n",
        "  while valid: \n",
        "    val = input(feature + \": \")\n",
        "    if not val.isdigit(): valid = False\n",
        "\n",
        "  predict[feature] = [float(val)]\n",
        "\n",
        "predictions = classifier.predict(input_fn=lambda: input_fn(predict))\n",
        "for pred_dict in predictions:\n",
        "    class_id = pred_dict['class_ids'][0]\n",
        "    probability = pred_dict['probabilities'][class_id]\n",
        "\n",
        "    print('Prediction is \"{}\" ({:.1f}%)'.format(\n",
        "        SPECIES[class_id], 100 * probability))\n"
      ],
      "execution_count": 12,
      "outputs": [
        {
          "output_type": "stream",
          "text": [
            "Please type numeric values as prompted.\n",
            "SepalLength: 23\n",
            "SepalLength: 15\n",
            "SepalLength: 15\n",
            "SepalLength: 4\n",
            "SepalLength: 8\n",
            "SepalLength: 2\n",
            "SepalLength: 0.5\n",
            "SepalWidth: 2\n",
            "SepalWidth: 0.8\n",
            "PetalLength: 0.6\n",
            "PetalWidth: 0.3\n",
            "INFO:tensorflow:Calling model_fn.\n",
            "INFO:tensorflow:Done calling model_fn.\n",
            "INFO:tensorflow:Graph was finalized.\n",
            "INFO:tensorflow:Restoring parameters from /tmp/tmpn8qqv4y_/model.ckpt-5000\n",
            "INFO:tensorflow:Running local_init_op.\n",
            "INFO:tensorflow:Done running local_init_op.\n",
            "Prediction is \"Setosa\" (40.1%)\n"
          ],
          "name": "stdout"
        }
      ]
    },
    {
      "cell_type": "code",
      "metadata": {
        "id": "lftRi7bZR1FS"
      },
      "source": [
        "expected = ['Setosa', 'Versicolor', 'Virginica']\n",
        "predict_x = {\n",
        "    'SepalLength': [5.1, 5.9, 6.9],\n",
        "    'SepalWidth': [3.3, 3.0, 3.1],\n",
        "    'PetalLength': [1.7, 4.2, 5.4],\n",
        "    'PetalWidth': [0.5, 1.5, 2.1],\n",
        "}"
      ],
      "execution_count": 13,
      "outputs": []
    }
  ]
}