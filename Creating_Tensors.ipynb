{
  "nbformat": 4,
  "nbformat_minor": 0,
  "metadata": {
    "colab": {
      "name": "Creating Tensors.ipynb",
      "provenance": []
    },
    "kernelspec": {
      "name": "python3",
      "display_name": "Python 3"
    }
  },
  "cells": [
    {
      "cell_type": "code",
      "metadata": {
        "id": "P4Q2WmLCTn8P",
        "outputId": "c108a503-136c-4ecf-ae72-9d05bbf0d855",
        "colab": {
          "base_uri": "https://localhost:8080/",
          "height": 121
        }
      },
      "source": [
        "%tensorflow_version 2.x  # this line is not required unless you are in a notebook"
      ],
      "execution_count": 1,
      "outputs": [
        {
          "output_type": "stream",
          "text": [
            "`%tensorflow_version` only switches the major version: 1.x or 2.x.\n",
            "You set: `2.x  # this line is not required unless you are in a notebook`. This will be interpreted as: `2.x`.\n",
            "\n",
            "\n",
            "TensorFlow 2.x selected.\n"
          ],
          "name": "stdout"
        }
      ]
    },
    {
      "cell_type": "code",
      "metadata": {
        "id": "EveVScjLUAnO",
        "outputId": "adee6e8b-9794-4067-aa05-a788f9d4d7f6",
        "colab": {
          "base_uri": "https://localhost:8080/",
          "height": 54
        }
      },
      "source": [
        "import tensorflow as tf \n",
        "print(tf.version)"
      ],
      "execution_count": 2,
      "outputs": [
        {
          "output_type": "stream",
          "text": [
            "<module 'tensorflow._api.v2.version' from '/usr/local/lib/python3.6/dist-packages/tensorflow/_api/v2/version/__init__.py'>\n"
          ],
          "name": "stdout"
        }
      ]
    },
    {
      "cell_type": "code",
      "metadata": {
        "id": "0CsJ_f7DUERc"
      },
      "source": [
        "string = tf.Variable(\"this is a string\", tf.string) \n",
        "number = tf.Variable(324, tf.int16)\n",
        "floating = tf.Variable(3.567, tf.float64)"
      ],
      "execution_count": 3,
      "outputs": []
    },
    {
      "cell_type": "code",
      "metadata": {
        "id": "ed-_AIJJUHD4"
      },
      "source": [
        "rank1_tensor = tf.Variable([\"Test\"], tf.string) \n",
        "rank2_tensor = tf.Variable([[\"test\", \"ok\"], [\"test\", \"yes\"]], tf.string)"
      ],
      "execution_count": 5,
      "outputs": []
    },
    {
      "cell_type": "code",
      "metadata": {
        "id": "MQ7h_YU4UIEL",
        "outputId": "48803061-2868-4c23-8f85-af3ff2e3e922",
        "colab": {
          "base_uri": "https://localhost:8080/",
          "height": 34
        }
      },
      "source": [
        "tf.rank(rank2_tensor)"
      ],
      "execution_count": 6,
      "outputs": [
        {
          "output_type": "execute_result",
          "data": {
            "text/plain": [
              "<tf.Tensor: shape=(), dtype=int32, numpy=2>"
            ]
          },
          "metadata": {
            "tags": []
          },
          "execution_count": 6
        }
      ]
    },
    {
      "cell_type": "code",
      "metadata": {
        "id": "Wzj2SXQ5ULNU",
        "outputId": "426fc001-4af2-4f41-f60a-e66ea7d4749e",
        "colab": {
          "base_uri": "https://localhost:8080/",
          "height": 34
        }
      },
      "source": [
        "rank2_tensor.shape"
      ],
      "execution_count": 7,
      "outputs": [
        {
          "output_type": "execute_result",
          "data": {
            "text/plain": [
              "TensorShape([2, 2])"
            ]
          },
          "metadata": {
            "tags": []
          },
          "execution_count": 7
        }
      ]
    },
    {
      "cell_type": "code",
      "metadata": {
        "id": "uFKNrn8sUOrK"
      },
      "source": [
        "tensor1 = tf.ones([1,2,3])  # tf.ones() creates a shape [1,2,3] tensor full of ones\n",
        "tensor2 = tf.reshape(tensor1, [2,3,1])  # reshape existing data to shape [2,3,1]\n",
        "tensor3 = tf.reshape(tensor2, [3, -1])  # -1 tells the tensor to calculate the size of the dimension in that place\n",
        "                                        # this will reshape the tensor to [3,3]"
      ],
      "execution_count": 8,
      "outputs": []
    },
    {
      "cell_type": "code",
      "metadata": {
        "id": "at5u0UnKUQhe",
        "outputId": "0f2bfd33-b9d1-46a8-ba7e-cfa1362f9044",
        "colab": {
          "base_uri": "https://localhost:8080/",
          "height": 269
        }
      },
      "source": [
        "print(tensor1)\n",
        "print(tensor2)\n",
        "print(tensor3)"
      ],
      "execution_count": 9,
      "outputs": [
        {
          "output_type": "stream",
          "text": [
            "tf.Tensor(\n",
            "[[[1. 1. 1.]\n",
            "  [1. 1. 1.]]], shape=(1, 2, 3), dtype=float32)\n",
            "tf.Tensor(\n",
            "[[[1.]\n",
            "  [1.]\n",
            "  [1.]]\n",
            "\n",
            " [[1.]\n",
            "  [1.]\n",
            "  [1.]]], shape=(2, 3, 1), dtype=float32)\n",
            "tf.Tensor(\n",
            "[[1. 1.]\n",
            " [1. 1.]\n",
            " [1. 1.]], shape=(3, 2), dtype=float32)\n"
          ],
          "name": "stdout"
        }
      ]
    },
    {
      "cell_type": "code",
      "metadata": {
        "id": "Sgpe_pjTUSz2",
        "outputId": "6f0a3c07-10b3-404c-d491-f239e5508084",
        "colab": {
          "base_uri": "https://localhost:8080/",
          "height": 50
        }
      },
      "source": [
        "# Creating a 2D tensor\n",
        "matrix = [[1,2,3,4,5],\n",
        "          [6,7,8,9,10],\n",
        "          [11,12,13,14,15],\n",
        "          [16,17,18,19,20]]\n",
        "\n",
        "tensor = tf.Variable(matrix, dtype=tf.int32) \n",
        "print(tf.rank(tensor))\n",
        "print(tensor.shape)"
      ],
      "execution_count": 10,
      "outputs": [
        {
          "output_type": "stream",
          "text": [
            "tf.Tensor(2, shape=(), dtype=int32)\n",
            "(4, 5)\n"
          ],
          "name": "stdout"
        }
      ]
    },
    {
      "cell_type": "code",
      "metadata": {
        "id": "107jHk_lUVQR",
        "outputId": "2cfda0b2-b4ba-4bdb-ca8d-6fbf279af01c",
        "colab": {
          "base_uri": "https://localhost:8080/",
          "height": 134
        }
      },
      "source": [
        "three = tensor[0,2]  # selects the 3rd element from the 1st row\n",
        "print(three)  # -> 3\n",
        "\n",
        "row1 = tensor[0]  # selects the first row\n",
        "print(row1)\n",
        "\n",
        "column1 = tensor[:, 0]  # selects the first column\n",
        "print(column1)\n",
        "\n",
        "row_2_and_4 = tensor[1::2]  # selects second and fourth row\n",
        "print(row_2_and_4)\n",
        "\n",
        "column_1_in_row_2_and_3 = tensor[1:3, 0]\n",
        "print(column_1_in_row_2_and_3)"
      ],
      "execution_count": 12,
      "outputs": [
        {
          "output_type": "stream",
          "text": [
            "tf.Tensor(3, shape=(), dtype=int32)\n",
            "tf.Tensor([1 2 3 4 5], shape=(5,), dtype=int32)\n",
            "tf.Tensor([ 1  6 11 16], shape=(4,), dtype=int32)\n",
            "tf.Tensor(\n",
            "[[ 6  7  8  9 10]\n",
            " [16 17 18 19 20]], shape=(2, 5), dtype=int32)\n",
            "tf.Tensor([ 6 11], shape=(2,), dtype=int32)\n"
          ],
          "name": "stdout"
        }
      ]
    }
  ]
}